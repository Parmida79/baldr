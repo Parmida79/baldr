{
 "cells": [
  {
   "cell_type": "code",
   "id": "initial_id",
   "metadata": {
    "collapsed": true,
    "ExecuteTime": {
     "end_time": "2025-04-12T15:43:48.530693Z",
     "start_time": "2025-04-12T15:43:48.521750Z"
    }
   },
   "source": [
    "import numpy as np\n",
    "import pandas as pd\n",
    "from sklearn.impute import SimpleImputer\n",
    "from pandas.api.types import is_numeric_dtype"
   ],
   "outputs": [],
   "execution_count": 227
  },
  {
   "metadata": {
    "ExecuteTime": {
     "end_time": "2025-04-12T16:20:08.571272Z",
     "start_time": "2025-04-12T16:20:08.550071Z"
    }
   },
   "cell_type": "code",
   "source": [
    "pcos_dataset = pd.read_csv('pcos_dataset_with_missing_values.csv')\n",
    "pcos_dataset"
   ],
   "id": "cff537a3978c459b",
   "outputs": [
    {
     "data": {
      "text/plain": [
       "       Age   BMI  Menstrual_Irregularity  Testosterone_Level(ng/dL)  \\\n",
       "0     24.0  34.7                       1                       25.2   \n",
       "1     37.0  26.4                       0                       57.1   \n",
       "2     32.0  23.6                       0                       92.7   \n",
       "3     28.0  28.8                       0                       63.1   \n",
       "4     25.0  22.1                       1                       59.8   \n",
       "...    ...   ...                     ...                        ...   \n",
       "996   34.0  18.4                       1                       95.7   \n",
       "997   45.0  28.9                       1                       28.5   \n",
       "998   37.0  28.3                       0                       32.4   \n",
       "999   41.0  27.3                       0                       95.6   \n",
       "1000  22.0  21.9                       1                       78.9   \n",
       "\n",
       "     Antral_Follicle_Count  PCOS_Diagnosis  \n",
       "0                       20               0  \n",
       "1                    'one'               0  \n",
       "2                       28               0  \n",
       "3                       26               0  \n",
       "4                        8               0  \n",
       "...                    ...             ...  \n",
       "996                     23               0  \n",
       "997                      7               0  \n",
       "998                     28               0  \n",
       "999                      9               0  \n",
       "1000                     7               0  \n",
       "\n",
       "[1001 rows x 6 columns]"
      ],
      "text/html": [
       "<div>\n",
       "<style scoped>\n",
       "    .dataframe tbody tr th:only-of-type {\n",
       "        vertical-align: middle;\n",
       "    }\n",
       "\n",
       "    .dataframe tbody tr th {\n",
       "        vertical-align: top;\n",
       "    }\n",
       "\n",
       "    .dataframe thead th {\n",
       "        text-align: right;\n",
       "    }\n",
       "</style>\n",
       "<table border=\"1\" class=\"dataframe\">\n",
       "  <thead>\n",
       "    <tr style=\"text-align: right;\">\n",
       "      <th></th>\n",
       "      <th>Age</th>\n",
       "      <th>BMI</th>\n",
       "      <th>Menstrual_Irregularity</th>\n",
       "      <th>Testosterone_Level(ng/dL)</th>\n",
       "      <th>Antral_Follicle_Count</th>\n",
       "      <th>PCOS_Diagnosis</th>\n",
       "    </tr>\n",
       "  </thead>\n",
       "  <tbody>\n",
       "    <tr>\n",
       "      <th>0</th>\n",
       "      <td>24.0</td>\n",
       "      <td>34.7</td>\n",
       "      <td>1</td>\n",
       "      <td>25.2</td>\n",
       "      <td>20</td>\n",
       "      <td>0</td>\n",
       "    </tr>\n",
       "    <tr>\n",
       "      <th>1</th>\n",
       "      <td>37.0</td>\n",
       "      <td>26.4</td>\n",
       "      <td>0</td>\n",
       "      <td>57.1</td>\n",
       "      <td>'one'</td>\n",
       "      <td>0</td>\n",
       "    </tr>\n",
       "    <tr>\n",
       "      <th>2</th>\n",
       "      <td>32.0</td>\n",
       "      <td>23.6</td>\n",
       "      <td>0</td>\n",
       "      <td>92.7</td>\n",
       "      <td>28</td>\n",
       "      <td>0</td>\n",
       "    </tr>\n",
       "    <tr>\n",
       "      <th>3</th>\n",
       "      <td>28.0</td>\n",
       "      <td>28.8</td>\n",
       "      <td>0</td>\n",
       "      <td>63.1</td>\n",
       "      <td>26</td>\n",
       "      <td>0</td>\n",
       "    </tr>\n",
       "    <tr>\n",
       "      <th>4</th>\n",
       "      <td>25.0</td>\n",
       "      <td>22.1</td>\n",
       "      <td>1</td>\n",
       "      <td>59.8</td>\n",
       "      <td>8</td>\n",
       "      <td>0</td>\n",
       "    </tr>\n",
       "    <tr>\n",
       "      <th>...</th>\n",
       "      <td>...</td>\n",
       "      <td>...</td>\n",
       "      <td>...</td>\n",
       "      <td>...</td>\n",
       "      <td>...</td>\n",
       "      <td>...</td>\n",
       "    </tr>\n",
       "    <tr>\n",
       "      <th>996</th>\n",
       "      <td>34.0</td>\n",
       "      <td>18.4</td>\n",
       "      <td>1</td>\n",
       "      <td>95.7</td>\n",
       "      <td>23</td>\n",
       "      <td>0</td>\n",
       "    </tr>\n",
       "    <tr>\n",
       "      <th>997</th>\n",
       "      <td>45.0</td>\n",
       "      <td>28.9</td>\n",
       "      <td>1</td>\n",
       "      <td>28.5</td>\n",
       "      <td>7</td>\n",
       "      <td>0</td>\n",
       "    </tr>\n",
       "    <tr>\n",
       "      <th>998</th>\n",
       "      <td>37.0</td>\n",
       "      <td>28.3</td>\n",
       "      <td>0</td>\n",
       "      <td>32.4</td>\n",
       "      <td>28</td>\n",
       "      <td>0</td>\n",
       "    </tr>\n",
       "    <tr>\n",
       "      <th>999</th>\n",
       "      <td>41.0</td>\n",
       "      <td>27.3</td>\n",
       "      <td>0</td>\n",
       "      <td>95.6</td>\n",
       "      <td>9</td>\n",
       "      <td>0</td>\n",
       "    </tr>\n",
       "    <tr>\n",
       "      <th>1000</th>\n",
       "      <td>22.0</td>\n",
       "      <td>21.9</td>\n",
       "      <td>1</td>\n",
       "      <td>78.9</td>\n",
       "      <td>7</td>\n",
       "      <td>0</td>\n",
       "    </tr>\n",
       "  </tbody>\n",
       "</table>\n",
       "<p>1001 rows × 6 columns</p>\n",
       "</div>"
      ]
     },
     "execution_count": 314,
     "metadata": {},
     "output_type": "execute_result"
    }
   ],
   "execution_count": 314
  },
  {
   "metadata": {
    "ExecuteTime": {
     "end_time": "2025-04-12T16:20:15.797861Z",
     "start_time": "2025-04-12T16:20:15.774377Z"
    }
   },
   "cell_type": "code",
   "source": [
    "# pcos_dataset.dtypes\n",
    "pcos_dataset.describe()"
   ],
   "id": "69cb7d36fcbdf3ce",
   "outputs": [
    {
     "data": {
      "text/plain": [
       "               Age          BMI  Menstrual_Irregularity  \\\n",
       "count  1000.000000  1001.000000              1001.00000   \n",
       "mean     31.771000    26.395305                 0.53047   \n",
       "std       8.463462     4.940064                 0.49932   \n",
       "min      18.000000    18.100000                 0.00000   \n",
       "25%      24.000000    21.900000                 0.00000   \n",
       "50%      32.000000    26.400000                 1.00000   \n",
       "75%      39.000000    30.500000                 1.00000   \n",
       "max      45.000000    35.000000                 1.00000   \n",
       "\n",
       "       Testosterone_Level(ng/dL)  PCOS_Diagnosis  \n",
       "count                1001.000000     1001.000000  \n",
       "mean                   60.124575        0.198801  \n",
       "std                    23.174978        0.399298  \n",
       "min                    20.000000        0.000000  \n",
       "25%                    41.700000        0.000000  \n",
       "50%                    60.000000        0.000000  \n",
       "75%                    80.300000        0.000000  \n",
       "max                    99.800000        1.000000  "
      ],
      "text/html": [
       "<div>\n",
       "<style scoped>\n",
       "    .dataframe tbody tr th:only-of-type {\n",
       "        vertical-align: middle;\n",
       "    }\n",
       "\n",
       "    .dataframe tbody tr th {\n",
       "        vertical-align: top;\n",
       "    }\n",
       "\n",
       "    .dataframe thead th {\n",
       "        text-align: right;\n",
       "    }\n",
       "</style>\n",
       "<table border=\"1\" class=\"dataframe\">\n",
       "  <thead>\n",
       "    <tr style=\"text-align: right;\">\n",
       "      <th></th>\n",
       "      <th>Age</th>\n",
       "      <th>BMI</th>\n",
       "      <th>Menstrual_Irregularity</th>\n",
       "      <th>Testosterone_Level(ng/dL)</th>\n",
       "      <th>PCOS_Diagnosis</th>\n",
       "    </tr>\n",
       "  </thead>\n",
       "  <tbody>\n",
       "    <tr>\n",
       "      <th>count</th>\n",
       "      <td>1000.000000</td>\n",
       "      <td>1001.000000</td>\n",
       "      <td>1001.00000</td>\n",
       "      <td>1001.000000</td>\n",
       "      <td>1001.000000</td>\n",
       "    </tr>\n",
       "    <tr>\n",
       "      <th>mean</th>\n",
       "      <td>31.771000</td>\n",
       "      <td>26.395305</td>\n",
       "      <td>0.53047</td>\n",
       "      <td>60.124575</td>\n",
       "      <td>0.198801</td>\n",
       "    </tr>\n",
       "    <tr>\n",
       "      <th>std</th>\n",
       "      <td>8.463462</td>\n",
       "      <td>4.940064</td>\n",
       "      <td>0.49932</td>\n",
       "      <td>23.174978</td>\n",
       "      <td>0.399298</td>\n",
       "    </tr>\n",
       "    <tr>\n",
       "      <th>min</th>\n",
       "      <td>18.000000</td>\n",
       "      <td>18.100000</td>\n",
       "      <td>0.00000</td>\n",
       "      <td>20.000000</td>\n",
       "      <td>0.000000</td>\n",
       "    </tr>\n",
       "    <tr>\n",
       "      <th>25%</th>\n",
       "      <td>24.000000</td>\n",
       "      <td>21.900000</td>\n",
       "      <td>0.00000</td>\n",
       "      <td>41.700000</td>\n",
       "      <td>0.000000</td>\n",
       "    </tr>\n",
       "    <tr>\n",
       "      <th>50%</th>\n",
       "      <td>32.000000</td>\n",
       "      <td>26.400000</td>\n",
       "      <td>1.00000</td>\n",
       "      <td>60.000000</td>\n",
       "      <td>0.000000</td>\n",
       "    </tr>\n",
       "    <tr>\n",
       "      <th>75%</th>\n",
       "      <td>39.000000</td>\n",
       "      <td>30.500000</td>\n",
       "      <td>1.00000</td>\n",
       "      <td>80.300000</td>\n",
       "      <td>0.000000</td>\n",
       "    </tr>\n",
       "    <tr>\n",
       "      <th>max</th>\n",
       "      <td>45.000000</td>\n",
       "      <td>35.000000</td>\n",
       "      <td>1.00000</td>\n",
       "      <td>99.800000</td>\n",
       "      <td>1.000000</td>\n",
       "    </tr>\n",
       "  </tbody>\n",
       "</table>\n",
       "</div>"
      ]
     },
     "execution_count": 315,
     "metadata": {},
     "output_type": "execute_result"
    }
   ],
   "execution_count": 315
  },
  {
   "metadata": {
    "ExecuteTime": {
     "end_time": "2025-04-12T16:20:35.157930Z",
     "start_time": "2025-04-12T16:20:35.149815Z"
    }
   },
   "cell_type": "code",
   "source": "pcos_dataset.info()",
   "id": "58641934fb084dd5",
   "outputs": [
    {
     "name": "stdout",
     "output_type": "stream",
     "text": [
      "<class 'pandas.core.frame.DataFrame'>\n",
      "RangeIndex: 1001 entries, 0 to 1000\n",
      "Data columns (total 6 columns):\n",
      " #   Column                     Non-Null Count  Dtype  \n",
      "---  ------                     --------------  -----  \n",
      " 0   Age                        1000 non-null   float64\n",
      " 1   BMI                        1001 non-null   float64\n",
      " 2   Menstrual_Irregularity     1001 non-null   int64  \n",
      " 3   Testosterone_Level(ng/dL)  1001 non-null   float64\n",
      " 4   Antral_Follicle_Count      999 non-null    float64\n",
      " 5   PCOS_Diagnosis             1001 non-null   int64  \n",
      "dtypes: float64(4), int64(2)\n",
      "memory usage: 47.1 KB\n"
     ]
    }
   ],
   "execution_count": 321
  },
  {
   "metadata": {
    "ExecuteTime": {
     "end_time": "2025-04-12T16:20:25.940335Z",
     "start_time": "2025-04-12T16:20:25.931009Z"
    }
   },
   "cell_type": "code",
   "source": "pcos_dataset.isnull().any()",
   "id": "e1bced92a00052d1",
   "outputs": [
    {
     "data": {
      "text/plain": [
       "Age                           True\n",
       "BMI                          False\n",
       "Menstrual_Irregularity       False\n",
       "Testosterone_Level(ng/dL)    False\n",
       "Antral_Follicle_Count         True\n",
       "PCOS_Diagnosis               False\n",
       "dtype: bool"
      ]
     },
     "execution_count": 319,
     "metadata": {},
     "output_type": "execute_result"
    }
   ],
   "execution_count": 319
  },
  {
   "metadata": {
    "ExecuteTime": {
     "end_time": "2025-04-12T16:20:23.282787Z",
     "start_time": "2025-04-12T16:20:23.273945Z"
    }
   },
   "cell_type": "code",
   "source": [
    "# check if a column is numerical or not\n",
    "# print(is_numeric_dtype(pcos_dataset['Antral_Follicle_Count']))\n",
    "\n",
    "# changes column type to numeric and turn all unusual values to null\n",
    "pcos_dataset['Antral_Follicle_Count'] = pd.to_numeric(pcos_dataset['Antral_Follicle_Count'], errors='coerce')\n",
    "\n",
    "pcos_dataset['Antral_Follicle_Count']\n",
    "### find all unusual values of column\n",
    "# invalid_mask = temp.isna()\n",
    "# invalid_values = pcos_dataset['Antral_Follicle_Count'][invalid_mask].unique()\n",
    "\n",
    "### one way to fill missing values\n",
    "# pcos_dataset['Antral_Follicle_Count'] = pcos_dataset['Antral_Follicle_Count'].fillna(0)"
   ],
   "id": "1dcf87c2926a48ec",
   "outputs": [
    {
     "data": {
      "text/plain": [
       "0       20.0\n",
       "1        NaN\n",
       "2       28.0\n",
       "3       26.0\n",
       "4        8.0\n",
       "        ... \n",
       "996     23.0\n",
       "997      7.0\n",
       "998     28.0\n",
       "999      9.0\n",
       "1000     7.0\n",
       "Name: Antral_Follicle_Count, Length: 1001, dtype: float64"
      ]
     },
     "execution_count": 318,
     "metadata": {},
     "output_type": "execute_result"
    }
   ],
   "execution_count": 318
  },
  {
   "metadata": {
    "ExecuteTime": {
     "end_time": "2025-04-12T16:20:42.667933Z",
     "start_time": "2025-04-12T16:20:42.657596Z"
    }
   },
   "cell_type": "code",
   "source": "is_numeric_dtype(pcos_dataset['Antral_Follicle_Count'])",
   "id": "9ae4a64af232f3dd",
   "outputs": [
    {
     "data": {
      "text/plain": [
       "True"
      ]
     },
     "execution_count": 322,
     "metadata": {},
     "output_type": "execute_result"
    }
   ],
   "execution_count": 322
  },
  {
   "metadata": {
    "ExecuteTime": {
     "end_time": "2025-04-12T16:21:15.919213Z",
     "start_time": "2025-04-12T16:21:15.897282Z"
    }
   },
   "cell_type": "code",
   "source": [
    "# imputer = SimpleImputer(strategy='constant', fill_value=24)\n",
    "imputer = SimpleImputer(strategy='mean')\n",
    "\n",
    "# select only numeric types\n",
    "pcos_nums = pcos_dataset.select_dtypes(include=[np.number])\n",
    "\n",
    "print(pcos_nums.duplicated().any())\n",
    "pcos_nums.drop_duplicates(inplace=True)\n",
    "imputer.fit(pcos_nums)\n",
    "# imputer.fit(pcos_nums[['Age']])\n",
    "\n",
    "# check strategy for each column\n",
    "imputer.statistics_  # equals to:  housing_num.median().values"
   ],
   "id": "c4c88ace881a74ec",
   "outputs": [
    {
     "name": "stdout",
     "output_type": "stream",
     "text": [
      "True\n"
     ]
    },
    {
     "data": {
      "text/plain": [
       "array([31.77877878, 26.387     ,  0.53      , 60.1595    , 17.46793587,\n",
       "        0.199     ])"
      ]
     },
     "execution_count": 324,
     "metadata": {},
     "output_type": "execute_result"
    }
   ],
   "execution_count": 324
  },
  {
   "metadata": {
    "ExecuteTime": {
     "end_time": "2025-04-12T16:21:24.952977Z",
     "start_time": "2025-04-12T16:21:24.939535Z"
    }
   },
   "cell_type": "code",
   "source": "pcos_imputer = imputer.transform(pcos_nums)",
   "id": "143d9e29e3b26c83",
   "outputs": [],
   "execution_count": 325
  },
  {
   "metadata": {
    "ExecuteTime": {
     "end_time": "2025-04-12T16:21:34.747869Z",
     "start_time": "2025-04-12T16:21:34.706267Z"
    }
   },
   "cell_type": "code",
   "source": "pd.DataFrame(pcos_imputer, columns=pcos_nums.columns, index=pcos_nums.index)",
   "id": "87f490803ac4f0ab",
   "outputs": [
    {
     "data": {
      "text/plain": [
       "       Age   BMI  Menstrual_Irregularity  Testosterone_Level(ng/dL)  \\\n",
       "0     24.0  34.7                     1.0                       25.2   \n",
       "1     37.0  26.4                     0.0                       57.1   \n",
       "2     32.0  23.6                     0.0                       92.7   \n",
       "3     28.0  28.8                     0.0                       63.1   \n",
       "4     25.0  22.1                     1.0                       59.8   \n",
       "...    ...   ...                     ...                        ...   \n",
       "996   34.0  18.4                     1.0                       95.7   \n",
       "997   45.0  28.9                     1.0                       28.5   \n",
       "998   37.0  28.3                     0.0                       32.4   \n",
       "999   41.0  27.3                     0.0                       95.6   \n",
       "1000  22.0  21.9                     1.0                       78.9   \n",
       "\n",
       "      Antral_Follicle_Count  PCOS_Diagnosis  \n",
       "0                 20.000000             0.0  \n",
       "1                 17.467936             0.0  \n",
       "2                 28.000000             0.0  \n",
       "3                 26.000000             0.0  \n",
       "4                  8.000000             0.0  \n",
       "...                     ...             ...  \n",
       "996               23.000000             0.0  \n",
       "997                7.000000             0.0  \n",
       "998               28.000000             0.0  \n",
       "999                9.000000             0.0  \n",
       "1000               7.000000             0.0  \n",
       "\n",
       "[1000 rows x 6 columns]"
      ],
      "text/html": [
       "<div>\n",
       "<style scoped>\n",
       "    .dataframe tbody tr th:only-of-type {\n",
       "        vertical-align: middle;\n",
       "    }\n",
       "\n",
       "    .dataframe tbody tr th {\n",
       "        vertical-align: top;\n",
       "    }\n",
       "\n",
       "    .dataframe thead th {\n",
       "        text-align: right;\n",
       "    }\n",
       "</style>\n",
       "<table border=\"1\" class=\"dataframe\">\n",
       "  <thead>\n",
       "    <tr style=\"text-align: right;\">\n",
       "      <th></th>\n",
       "      <th>Age</th>\n",
       "      <th>BMI</th>\n",
       "      <th>Menstrual_Irregularity</th>\n",
       "      <th>Testosterone_Level(ng/dL)</th>\n",
       "      <th>Antral_Follicle_Count</th>\n",
       "      <th>PCOS_Diagnosis</th>\n",
       "    </tr>\n",
       "  </thead>\n",
       "  <tbody>\n",
       "    <tr>\n",
       "      <th>0</th>\n",
       "      <td>24.0</td>\n",
       "      <td>34.7</td>\n",
       "      <td>1.0</td>\n",
       "      <td>25.2</td>\n",
       "      <td>20.000000</td>\n",
       "      <td>0.0</td>\n",
       "    </tr>\n",
       "    <tr>\n",
       "      <th>1</th>\n",
       "      <td>37.0</td>\n",
       "      <td>26.4</td>\n",
       "      <td>0.0</td>\n",
       "      <td>57.1</td>\n",
       "      <td>17.467936</td>\n",
       "      <td>0.0</td>\n",
       "    </tr>\n",
       "    <tr>\n",
       "      <th>2</th>\n",
       "      <td>32.0</td>\n",
       "      <td>23.6</td>\n",
       "      <td>0.0</td>\n",
       "      <td>92.7</td>\n",
       "      <td>28.000000</td>\n",
       "      <td>0.0</td>\n",
       "    </tr>\n",
       "    <tr>\n",
       "      <th>3</th>\n",
       "      <td>28.0</td>\n",
       "      <td>28.8</td>\n",
       "      <td>0.0</td>\n",
       "      <td>63.1</td>\n",
       "      <td>26.000000</td>\n",
       "      <td>0.0</td>\n",
       "    </tr>\n",
       "    <tr>\n",
       "      <th>4</th>\n",
       "      <td>25.0</td>\n",
       "      <td>22.1</td>\n",
       "      <td>1.0</td>\n",
       "      <td>59.8</td>\n",
       "      <td>8.000000</td>\n",
       "      <td>0.0</td>\n",
       "    </tr>\n",
       "    <tr>\n",
       "      <th>...</th>\n",
       "      <td>...</td>\n",
       "      <td>...</td>\n",
       "      <td>...</td>\n",
       "      <td>...</td>\n",
       "      <td>...</td>\n",
       "      <td>...</td>\n",
       "    </tr>\n",
       "    <tr>\n",
       "      <th>996</th>\n",
       "      <td>34.0</td>\n",
       "      <td>18.4</td>\n",
       "      <td>1.0</td>\n",
       "      <td>95.7</td>\n",
       "      <td>23.000000</td>\n",
       "      <td>0.0</td>\n",
       "    </tr>\n",
       "    <tr>\n",
       "      <th>997</th>\n",
       "      <td>45.0</td>\n",
       "      <td>28.9</td>\n",
       "      <td>1.0</td>\n",
       "      <td>28.5</td>\n",
       "      <td>7.000000</td>\n",
       "      <td>0.0</td>\n",
       "    </tr>\n",
       "    <tr>\n",
       "      <th>998</th>\n",
       "      <td>37.0</td>\n",
       "      <td>28.3</td>\n",
       "      <td>0.0</td>\n",
       "      <td>32.4</td>\n",
       "      <td>28.000000</td>\n",
       "      <td>0.0</td>\n",
       "    </tr>\n",
       "    <tr>\n",
       "      <th>999</th>\n",
       "      <td>41.0</td>\n",
       "      <td>27.3</td>\n",
       "      <td>0.0</td>\n",
       "      <td>95.6</td>\n",
       "      <td>9.000000</td>\n",
       "      <td>0.0</td>\n",
       "    </tr>\n",
       "    <tr>\n",
       "      <th>1000</th>\n",
       "      <td>22.0</td>\n",
       "      <td>21.9</td>\n",
       "      <td>1.0</td>\n",
       "      <td>78.9</td>\n",
       "      <td>7.000000</td>\n",
       "      <td>0.0</td>\n",
       "    </tr>\n",
       "  </tbody>\n",
       "</table>\n",
       "<p>1000 rows × 6 columns</p>\n",
       "</div>"
      ]
     },
     "execution_count": 327,
     "metadata": {},
     "output_type": "execute_result"
    }
   ],
   "execution_count": 327
  }
 ],
 "metadata": {
  "kernelspec": {
   "display_name": "Python 3",
   "language": "python",
   "name": "python3"
  },
  "language_info": {
   "codemirror_mode": {
    "name": "ipython",
    "version": 2
   },
   "file_extension": ".py",
   "mimetype": "text/x-python",
   "name": "python",
   "nbconvert_exporter": "python",
   "pygments_lexer": "ipython2",
   "version": "2.7.6"
  }
 },
 "nbformat": 4,
 "nbformat_minor": 5
}
