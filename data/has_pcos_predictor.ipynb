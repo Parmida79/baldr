{
 "cells": [
  {
   "cell_type": "code",
   "id": "initial_id",
   "metadata": {
    "collapsed": true,
    "ExecuteTime": {
     "end_time": "2025-04-12T16:55:40.793479Z",
     "start_time": "2025-04-12T16:55:40.785302Z"
    }
   },
   "source": [
    "import pandas as pd\n",
    "import matplotlib.pyplot as plt\n",
    "from pandas.plotting import scatter_matrix, hist_frame"
   ],
   "outputs": [],
   "execution_count": 77
  },
  {
   "metadata": {
    "ExecuteTime": {
     "end_time": "2025-04-12T16:24:54.683836Z",
     "start_time": "2025-04-12T16:24:54.670550Z"
    }
   },
   "cell_type": "code",
   "source": [
    "pcos_dataset = pd.read_csv('pcos_dataset.csv')\n",
    "pcos_dataset"
   ],
   "id": "4d27547b094a8d0c",
   "outputs": [
    {
     "data": {
      "text/plain": [
       "     Age   BMI  Menstrual_Irregularity  Testosterone_Level(ng/dL)  \\\n",
       "0     24  34.7                       1                       25.2   \n",
       "1     37  26.4                       0                       57.1   \n",
       "2     32  23.6                       0                       92.7   \n",
       "3     28  28.8                       0                       63.1   \n",
       "4     25  22.1                       1                       59.8   \n",
       "..   ...   ...                     ...                        ...   \n",
       "995   34  18.4                       1                       95.7   \n",
       "996   45  28.9                       1                       28.5   \n",
       "997   37  28.3                       0                       32.4   \n",
       "998   41  27.3                       0                       95.6   \n",
       "999   22  21.9                       1                       78.9   \n",
       "\n",
       "     Antral_Follicle_Count  PCOS_Diagnosis  \n",
       "0                       20               0  \n",
       "1                       25               0  \n",
       "2                       28               0  \n",
       "3                       26               0  \n",
       "4                        8               0  \n",
       "..                     ...             ...  \n",
       "995                     23               0  \n",
       "996                      7               0  \n",
       "997                     28               0  \n",
       "998                      9               0  \n",
       "999                      7               0  \n",
       "\n",
       "[1000 rows x 6 columns]"
      ],
      "text/html": [
       "<div>\n",
       "<style scoped>\n",
       "    .dataframe tbody tr th:only-of-type {\n",
       "        vertical-align: middle;\n",
       "    }\n",
       "\n",
       "    .dataframe tbody tr th {\n",
       "        vertical-align: top;\n",
       "    }\n",
       "\n",
       "    .dataframe thead th {\n",
       "        text-align: right;\n",
       "    }\n",
       "</style>\n",
       "<table border=\"1\" class=\"dataframe\">\n",
       "  <thead>\n",
       "    <tr style=\"text-align: right;\">\n",
       "      <th></th>\n",
       "      <th>Age</th>\n",
       "      <th>BMI</th>\n",
       "      <th>Menstrual_Irregularity</th>\n",
       "      <th>Testosterone_Level(ng/dL)</th>\n",
       "      <th>Antral_Follicle_Count</th>\n",
       "      <th>PCOS_Diagnosis</th>\n",
       "    </tr>\n",
       "  </thead>\n",
       "  <tbody>\n",
       "    <tr>\n",
       "      <th>0</th>\n",
       "      <td>24</td>\n",
       "      <td>34.7</td>\n",
       "      <td>1</td>\n",
       "      <td>25.2</td>\n",
       "      <td>20</td>\n",
       "      <td>0</td>\n",
       "    </tr>\n",
       "    <tr>\n",
       "      <th>1</th>\n",
       "      <td>37</td>\n",
       "      <td>26.4</td>\n",
       "      <td>0</td>\n",
       "      <td>57.1</td>\n",
       "      <td>25</td>\n",
       "      <td>0</td>\n",
       "    </tr>\n",
       "    <tr>\n",
       "      <th>2</th>\n",
       "      <td>32</td>\n",
       "      <td>23.6</td>\n",
       "      <td>0</td>\n",
       "      <td>92.7</td>\n",
       "      <td>28</td>\n",
       "      <td>0</td>\n",
       "    </tr>\n",
       "    <tr>\n",
       "      <th>3</th>\n",
       "      <td>28</td>\n",
       "      <td>28.8</td>\n",
       "      <td>0</td>\n",
       "      <td>63.1</td>\n",
       "      <td>26</td>\n",
       "      <td>0</td>\n",
       "    </tr>\n",
       "    <tr>\n",
       "      <th>4</th>\n",
       "      <td>25</td>\n",
       "      <td>22.1</td>\n",
       "      <td>1</td>\n",
       "      <td>59.8</td>\n",
       "      <td>8</td>\n",
       "      <td>0</td>\n",
       "    </tr>\n",
       "    <tr>\n",
       "      <th>...</th>\n",
       "      <td>...</td>\n",
       "      <td>...</td>\n",
       "      <td>...</td>\n",
       "      <td>...</td>\n",
       "      <td>...</td>\n",
       "      <td>...</td>\n",
       "    </tr>\n",
       "    <tr>\n",
       "      <th>995</th>\n",
       "      <td>34</td>\n",
       "      <td>18.4</td>\n",
       "      <td>1</td>\n",
       "      <td>95.7</td>\n",
       "      <td>23</td>\n",
       "      <td>0</td>\n",
       "    </tr>\n",
       "    <tr>\n",
       "      <th>996</th>\n",
       "      <td>45</td>\n",
       "      <td>28.9</td>\n",
       "      <td>1</td>\n",
       "      <td>28.5</td>\n",
       "      <td>7</td>\n",
       "      <td>0</td>\n",
       "    </tr>\n",
       "    <tr>\n",
       "      <th>997</th>\n",
       "      <td>37</td>\n",
       "      <td>28.3</td>\n",
       "      <td>0</td>\n",
       "      <td>32.4</td>\n",
       "      <td>28</td>\n",
       "      <td>0</td>\n",
       "    </tr>\n",
       "    <tr>\n",
       "      <th>998</th>\n",
       "      <td>41</td>\n",
       "      <td>27.3</td>\n",
       "      <td>0</td>\n",
       "      <td>95.6</td>\n",
       "      <td>9</td>\n",
       "      <td>0</td>\n",
       "    </tr>\n",
       "    <tr>\n",
       "      <th>999</th>\n",
       "      <td>22</td>\n",
       "      <td>21.9</td>\n",
       "      <td>1</td>\n",
       "      <td>78.9</td>\n",
       "      <td>7</td>\n",
       "      <td>0</td>\n",
       "    </tr>\n",
       "  </tbody>\n",
       "</table>\n",
       "<p>1000 rows × 6 columns</p>\n",
       "</div>"
      ]
     },
     "execution_count": 6,
     "metadata": {},
     "output_type": "execute_result"
    }
   ],
   "execution_count": 6
  },
  {
   "metadata": {
    "ExecuteTime": {
     "end_time": "2025-04-12T16:29:36.394283Z",
     "start_time": "2025-04-12T16:29:36.387442Z"
    }
   },
   "cell_type": "code",
   "source": [
    "print('Check for missing values:')\n",
    "pcos_dataset.isnull().any()"
   ],
   "id": "3848d335eaf88de2",
   "outputs": [
    {
     "name": "stdout",
     "output_type": "stream",
     "text": [
      "Check for missing values:\n"
     ]
    },
    {
     "data": {
      "text/plain": [
       "Age                          False\n",
       "BMI                          False\n",
       "Menstrual_Irregularity       False\n",
       "Testosterone_Level(ng/dL)    False\n",
       "Antral_Follicle_Count        False\n",
       "PCOS_Diagnosis               False\n",
       "dtype: bool"
      ]
     },
     "execution_count": 28,
     "metadata": {},
     "output_type": "execute_result"
    }
   ],
   "execution_count": 28
  },
  {
   "metadata": {
    "ExecuteTime": {
     "end_time": "2025-04-12T16:29:45.352522Z",
     "start_time": "2025-04-12T16:29:45.344761Z"
    }
   },
   "cell_type": "code",
   "source": [
    "print('Check for duplicated values: ')\n",
    "pcos_dataset.duplicated().any()"
   ],
   "id": "ea4a3136e8126df9",
   "outputs": [
    {
     "name": "stdout",
     "output_type": "stream",
     "text": [
      "Check for duplicated values: \n"
     ]
    },
    {
     "data": {
      "text/plain": [
       "np.False_"
      ]
     },
     "execution_count": 30,
     "metadata": {},
     "output_type": "execute_result"
    }
   ],
   "execution_count": 30
  },
  {
   "metadata": {
    "ExecuteTime": {
     "end_time": "2025-04-12T16:31:26.211578Z",
     "start_time": "2025-04-12T16:31:26.201544Z"
    }
   },
   "cell_type": "code",
   "source": [
    "print('Check for unusual values: \\n')\n",
    "pcos_dataset.info()"
   ],
   "id": "41227f1e531c7f84",
   "outputs": [
    {
     "name": "stdout",
     "output_type": "stream",
     "text": [
      "Check for unusual values: \n",
      "\n",
      "<class 'pandas.core.frame.DataFrame'>\n",
      "RangeIndex: 1000 entries, 0 to 999\n",
      "Data columns (total 6 columns):\n",
      " #   Column                     Non-Null Count  Dtype  \n",
      "---  ------                     --------------  -----  \n",
      " 0   Age                        1000 non-null   int64  \n",
      " 1   BMI                        1000 non-null   float64\n",
      " 2   Menstrual_Irregularity     1000 non-null   int64  \n",
      " 3   Testosterone_Level(ng/dL)  1000 non-null   float64\n",
      " 4   Antral_Follicle_Count      1000 non-null   int64  \n",
      " 5   PCOS_Diagnosis             1000 non-null   int64  \n",
      "dtypes: float64(2), int64(4)\n",
      "memory usage: 47.0 KB\n"
     ]
    }
   ],
   "execution_count": 37
  },
  {
   "metadata": {
    "ExecuteTime": {
     "end_time": "2025-04-12T16:46:29.000821Z",
     "start_time": "2025-04-12T16:46:28.989604Z"
    }
   },
   "cell_type": "code",
   "source": [
    "features = ['Age', 'BMI', 'Menstrual_Irregularity', 'Testosterone_Level(ng/dL)', 'Antral_Follicle_Count']\n",
    "\n",
    "X = pcos_dataset[features]\n",
    "target = pcos_dataset['PCOS_Diagnosis']"
   ],
   "id": "eddcd98edb05d04b",
   "outputs": [],
   "execution_count": 57
  },
  {
   "metadata": {
    "ExecuteTime": {
     "end_time": "2025-04-12T16:58:11.672504Z",
     "start_time": "2025-04-12T16:58:11.098740Z"
    }
   },
   "cell_type": "code",
   "source": "hist_frame(pcos_dataset[features], figsize=[8,8])",
   "id": "d203047624b32a85",
   "outputs": [
    {
     "data": {
      "text/plain": [
       "array([[<Axes: title={'center': 'Age'}>, <Axes: title={'center': 'BMI'}>],\n",
       "       [<Axes: title={'center': 'Menstrual_Irregularity'}>,\n",
       "        <Axes: title={'center': 'Testosterone_Level(ng/dL)'}>],\n",
       "       [<Axes: title={'center': 'Antral_Follicle_Count'}>, <Axes: >]],\n",
       "      dtype=object)"
      ]
     },
     "execution_count": 88,
     "metadata": {},
     "output_type": "execute_result"
    },
    {
     "data": {
      "text/plain": [
       "<Figure size 800x800 with 6 Axes>"
      ],
      "image/png": "[encoded data removed]"
     },
     "metadata": {},
     "output_type": "display_data"
    }
   ],
   "execution_count": 88
  },
  {
   "metadata": {},
   "cell_type": "code",
   "outputs": [],
   "execution_count": null,
   "source": "",
   "id": "2ca3075b3eff6f67"
  }
 ],
 "metadata": {
  "kernelspec": {
   "display_name": "Python 3",
   "language": "python",
   "name": "python3"
  },
  "language_info": {
   "codemirror_mode": {
    "name": "ipython",
    "version": 2
   },
   "file_extension": ".py",
   "mimetype": "text/x-python",
   "name": "python",
   "nbconvert_exporter": "python",
   "pygments_lexer": "ipython2",
   "version": "2.7.6"
  }
 },
 "nbformat": 4,
 "nbformat_minor": 5
}
