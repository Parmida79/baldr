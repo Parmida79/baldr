{
 "cells": [
  {
   "cell_type": "code",
   "id": "initial_id",
   "metadata": {
    "collapsed": true,
    "ExecuteTime": {
     "end_time": "2025-04-08T07:46:05.441576Z",
     "start_time": "2025-04-08T07:46:05.431047Z"
    }
   },
   "source": [
    "import numpy as np\n",
    "from sklearn.metrics import confusion_matrix, ConfusionMatrixDisplay, accuracy_score, precision_score, recall_score, f1_score\n",
    "import matplotlib.pyplot as plt"
   ],
   "outputs": [],
   "execution_count": 61
  },
  {
   "metadata": {
    "ExecuteTime": {
     "end_time": "2025-04-07T15:13:32.371273Z",
     "start_time": "2025-04-07T15:13:32.361662Z"
    }
   },
   "cell_type": "code",
   "source": [
    "actual = np.random.binomial(1, 0.9, 1000)\n",
    "predicted = np.random.binomial(1, 0.9, 1000)"
   ],
   "id": "5458e02d8459c69f",
   "outputs": [],
   "execution_count": 34
  },
  {
   "metadata": {
    "ExecuteTime": {
     "end_time": "2025-04-07T15:13:33.839725Z",
     "start_time": "2025-04-07T15:13:33.830473Z"
    }
   },
   "cell_type": "code",
   "source": [
    "confusion = confusion_matrix(actual, predicted)\n",
    "confusion"
   ],
   "id": "2e00e205ab8a7bcf",
   "outputs": [
    {
     "data": {
      "text/plain": [
       "array([[ 14,  91],\n",
       "       [ 83, 812]])"
      ]
     },
     "execution_count": 35,
     "metadata": {},
     "output_type": "execute_result"
    }
   ],
   "execution_count": 35
  },
  {
   "metadata": {
    "ExecuteTime": {
     "end_time": "2025-04-07T15:13:35.767923Z",
     "start_time": "2025-04-07T15:13:35.625300Z"
    }
   },
   "cell_type": "code",
   "source": [
    "confusion_display = ConfusionMatrixDisplay(confusion_matrix=confusion, display_labels=['0', '1'])\n",
    "confusion_display.plot()"
   ],
   "id": "4320d618cd0af9ad",
   "outputs": [
    {
     "data": {
      "text/plain": [
       "<sklearn.metrics._plot.confusion_matrix.ConfusionMatrixDisplay at 0x7cfa513918d0>"
      ]
     },
     "execution_count": 36,
     "metadata": {},
     "output_type": "execute_result"
    },
    {
     "data": {
      "text/plain": [
       "<Figure size 640x480 with 2 Axes>"
      ],
      "image/png": "[encoded data removed]"
     },
     "metadata": {},
     "output_type": "display_data"
    }
   ],
   "execution_count": 36
  },
  {
   "metadata": {
    "ExecuteTime": {
     "end_time": "2025-04-08T07:34:58.160310Z",
     "start_time": "2025-04-08T07:34:58.154437Z"
    }
   },
   "cell_type": "code",
   "source": [
    "accuracy = accuracy_score(actual, predicted)\n",
    "accuracy"
   ],
   "id": "71fc948975c18c0e",
   "outputs": [
    {
     "data": {
      "text/plain": [
       "0.826"
      ]
     },
     "execution_count": 41,
     "metadata": {},
     "output_type": "execute_result"
    }
   ],
   "execution_count": 41
  },
  {
   "metadata": {
    "ExecuteTime": {
     "end_time": "2025-04-08T07:36:41.494150Z",
     "start_time": "2025-04-08T07:36:41.485676Z"
    }
   },
   "cell_type": "code",
   "source": [
    "precision = precision_score(actual, predicted)\n",
    "precision"
   ],
   "id": "109b07f8c815bde6",
   "outputs": [
    {
     "data": {
      "text/plain": [
       "0.8992248062015504"
      ]
     },
     "execution_count": 44,
     "metadata": {},
     "output_type": "execute_result"
    }
   ],
   "execution_count": 44
  },
  {
   "metadata": {
    "ExecuteTime": {
     "end_time": "2025-04-08T07:40:13.727035Z",
     "start_time": "2025-04-08T07:40:13.715842Z"
    }
   },
   "cell_type": "code",
   "source": [
    "recall = recall_score(actual, predicted)\n",
    "recall"
   ],
   "id": "1431fb6fa26115c4",
   "outputs": [
    {
     "data": {
      "text/plain": [
       "0.9072625698324023"
      ]
     },
     "execution_count": 47,
     "metadata": {},
     "output_type": "execute_result"
    }
   ],
   "execution_count": 47
  },
  {
   "metadata": {
    "ExecuteTime": {
     "end_time": "2025-04-08T07:42:00.316623Z",
     "start_time": "2025-04-08T07:42:00.305342Z"
    }
   },
   "cell_type": "code",
   "source": [
    "negative_recall = recall_score(actual, predicted, pos_label=0)\n",
    "negative_recall"
   ],
   "id": "e6492099cc42c44f",
   "outputs": [
    {
     "data": {
      "text/plain": [
       "0.13333333333333333"
      ]
     },
     "execution_count": 49,
     "metadata": {},
     "output_type": "execute_result"
    }
   ],
   "execution_count": 49
  },
  {
   "metadata": {
    "ExecuteTime": {
     "end_time": "2025-04-08T07:46:11.547338Z",
     "start_time": "2025-04-08T07:46:11.540448Z"
    }
   },
   "cell_type": "code",
   "source": [
    "f1 = f1_score(actual, predicted)\n",
    "f1"
   ],
   "id": "d68297424fcb5966",
   "outputs": [
    {
     "data": {
      "text/plain": [
       "0.9032258064516129"
      ]
     },
     "execution_count": 63,
     "metadata": {},
     "output_type": "execute_result"
    }
   ],
   "execution_count": 63
  },
  {
   "metadata": {},
   "cell_type": "code",
   "outputs": [],
   "execution_count": null,
   "source": "",
   "id": "261114228f979642"
  }
 ],
 "metadata": {
  "kernelspec": {
   "display_name": "Python 3",
   "language": "python",
   "name": "python3"
  },
  "language_info": {
   "codemirror_mode": {
    "name": "ipython",
    "version": 2
   },
   "file_extension": ".py",
   "mimetype": "text/x-python",
   "name": "python",
   "nbconvert_exporter": "python",
   "pygments_lexer": "ipython2",
   "version": "2.7.6"
  }
 },
 "nbformat": 4,
 "nbformat_minor": 5
}
