{
 "cells": [
  {
   "cell_type": "code",
   "id": "initial_id",
   "metadata": {
    "collapsed": true,
    "ExecuteTime": {
     "end_time": "2025-04-09T13:16:26.961226Z",
     "start_time": "2025-04-09T13:16:26.956852Z"
    }
   },
   "source": [
    "import numpy as np\n",
    "from sklearn.metrics import accuracy_score, confusion_matrix, roc_curve, roc_auc_score"
   ],
   "outputs": [],
   "execution_count": 3
  },
  {
   "metadata": {
    "ExecuteTime": {
     "end_time": "2025-04-09T13:19:12.746537Z",
     "start_time": "2025-04-09T13:19:12.737977Z"
    }
   },
   "cell_type": "code",
   "source": [
    "n = 10000\n",
    "ratio = .95\n",
    "n_0 = int((1-ratio) * n)\n",
    "n_1 = int(ratio * n)\n",
    "\n",
    "print('n0:', n_0, '\\nn1:', n_1)\n",
    "\n",
    "y = np.array([0] * n_0 + [1] * n_1)\n",
    "y"
   ],
   "id": "2c22637c35847599",
   "outputs": [
    {
     "name": "stdout",
     "output_type": "stream",
     "text": [
      "n0: 500 \n",
      "n1: 9500\n"
     ]
    },
    {
     "data": {
      "text/plain": [
       "array([0, 0, 0, ..., 1, 1, 1])"
      ]
     },
     "execution_count": 13,
     "metadata": {},
     "output_type": "execute_result"
    }
   ],
   "execution_count": 13
  },
  {
   "metadata": {
    "ExecuteTime": {
     "end_time": "2025-04-09T13:23:58.762540Z",
     "start_time": "2025-04-09T13:23:58.740226Z"
    }
   },
   "cell_type": "code",
   "source": [
    "# below are the probabilities obtained from a hypothetical model that always predicts the majority class\n",
    "# probability of predicting class 1 is going to be 100%\n",
    "y_prob = np.array([1] * n)\n",
    "y_pred = y_prob > .5\n",
    "\n",
    "print(f'accuracy score: {accuracy_score(y, y_pred)}')\n",
    "cf_mat = confusion_matrix(y, y_pred)\n",
    "print('Confusion matrix')\n",
    "print(cf_mat.tolist())\n",
    "print(f'class 0 accuracy: {cf_mat[0][0]/n_0}')\n",
    "print(f'class 1 accuracy: {cf_mat[1][1]/n_1}')"
   ],
   "id": "eca81baeb727c07d",
   "outputs": [
    {
     "name": "stdout",
     "output_type": "stream",
     "text": [
      "accuracy score: 0.95\n",
      "Confusion matrix\n",
      "[[0, 500], [0, 9500]]\n",
      "class 0 accuracy: 0.0\n",
      "class 1 accuracy: 1.0\n"
     ]
    }
   ],
   "execution_count": 26
  },
  {
   "metadata": {
    "ExecuteTime": {
     "end_time": "2025-04-09T13:24:01.414235Z",
     "start_time": "2025-04-09T13:24:01.404160Z"
    }
   },
   "cell_type": "code",
   "source": [
    "y_proba_2 = np.array(\n",
    "    np.random.uniform(0, .7, n_0).tolist() +\n",
    "    np.random.uniform(.3, 1, n_1).tolist()\n",
    ")\n",
    "y_pred_2 = y_proba_2 > .5\n",
    "\n",
    "print(f'accuracy score: {accuracy_score(y, y_pred_2)}')\n",
    "cf_mat = confusion_matrix(y, y_pred_2)\n",
    "print('Confusion matrix')\n",
    "print(cf_mat.tolist())\n",
    "print(f'class 0 accuracy: {cf_mat[0][0]/n_0}')\n",
    "print(f'class 1 accuracy: {cf_mat[1][1]/n_1}')"
   ],
   "id": "17c3e0ef43c234d0",
   "outputs": [
    {
     "name": "stdout",
     "output_type": "stream",
     "text": [
      "accuracy score: 0.718\n",
      "Confusion matrix\n",
      "[[345, 155], [2665, 6835]]\n",
      "class 0 accuracy: 0.69\n",
      "class 1 accuracy: 0.7194736842105263\n"
     ]
    }
   ],
   "execution_count": 27
  }
 ],
 "metadata": {
  "kernelspec": {
   "display_name": "Python 3",
   "language": "python",
   "name": "python3"
  },
  "language_info": {
   "codemirror_mode": {
    "name": "ipython",
    "version": 2
   },
   "file_extension": ".py",
   "mimetype": "text/x-python",
   "name": "python",
   "nbconvert_exporter": "python",
   "pygments_lexer": "ipython2",
   "version": "2.7.6"
  }
 },
 "nbformat": 4,
 "nbformat_minor": 5
}
